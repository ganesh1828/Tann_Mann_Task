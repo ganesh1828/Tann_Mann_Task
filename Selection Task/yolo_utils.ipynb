{
 "cells": [
  {
   "cell_type": "code",
   "execution_count": 4,
   "id": "f613527a",
   "metadata": {},
   "outputs": [
    {
     "name": "stdout",
     "output_type": "stream",
     "text": [
      "Collecting opencv-python\n",
      "  Downloading opencv_python-4.5.3.56-cp38-cp38-win_amd64.whl (34.9 MB)\n",
      "Requirement already satisfied: numpy>=1.17.3 in c:\\users\\ganes\\anaconda3\\lib\\site-packages (from opencv-python) (1.19.5)\n",
      "Installing collected packages: opencv-python\n",
      "Successfully installed opencv-python-4.5.3.56\n",
      "Note: you may need to restart the kernel to use updated packages.\n"
     ]
    }
   ],
   "source": [
    "pip install opencv-python"
   ]
  },
  {
   "cell_type": "code",
   "execution_count": 5,
   "id": "0ef669d3",
   "metadata": {},
   "outputs": [],
   "source": [
    "import numpy as np\n",
    "import argparse\n",
    "import cv2 as cv\n",
    "import subprocess\n",
    "import time\n",
    "import os\n",
    "\n",
    "def show_image(img):\n",
    "    cv.imshow(\"Image\", img)\n",
    "    cv.waitKey(0)\n",
    "\n",
    "def draw_labels_and_boxes(cal,time,img, boxes, confidences, classids, idxs, colors, labels):\n",
    "    # If there are any detections\n",
    "    if len(idxs) > 0:\n",
    "        for i in idxs.flatten():\n",
    "            # Get the bounding box coordinates\n",
    "            x, y = boxes[i][0], boxes[i][1]\n",
    "            w, h = boxes[i][2], boxes[i][3]\n",
    "            \n",
    "            # Get the unique color for this class\n",
    "            color = [int(c) for c in colors[classids[i]]]\n",
    "\n",
    "            # Draw the bounding box rectangle and label on the image\n",
    "            cv.rectangle(img, (x, y), (x+w, y+h), color, 2)\n",
    "            text = \"{}: {:4f}\".format(labels[classids[i]], confidences[i])\n",
    "            cv.putText(img, text, (x, y-5), cv.FONT_HERSHEY_SIMPLEX, 0.5, color, 2)\n",
    "\n",
    "    return img\n",
    "\n",
    "\n",
    "def generate_boxes_confidences_classids(outs, height, width, tconf):\n",
    "    boxes = []\n",
    "    confidences = []\n",
    "    classids = []\n",
    "\n",
    "    for out in outs:\n",
    "        for detection in out:\n",
    "            #print (detection)\n",
    "            #a = input('GO!')\n",
    "            \n",
    "            # Get the scores, classid, and the confidence of the prediction\n",
    "            scores = detection[5:]\n",
    "            classid = np.argmax(scores)\n",
    "            confidence = scores[classid]\n",
    "            \n",
    "            # Consider only the predictions that are above a certain confidence level\n",
    "            if confidence > tconf:\n",
    "                # TODO Check detection\n",
    "                box = detection[0:4] * np.array([width, height, width, height])\n",
    "                centerX, centerY, bwidth, bheight = box.astype('int')\n",
    "\n",
    "                # Using the center x, y coordinates to derive the top\n",
    "                # and the left corner of the bounding box\n",
    "                x = int(centerX - (bwidth / 2))\n",
    "                y = int(centerY - (bheight / 2))\n",
    "\n",
    "                # Append to list\n",
    "                boxes.append([x, y, int(bwidth), int(bheight)])\n",
    "                confidences.append(float(confidence))\n",
    "                classids.append(classid)\n",
    "\n",
    "    return boxes, confidences, classids\n",
    "\n",
    "def infer_image(net, layer_names, height, width, img, colors, labels, FLAGS, \n",
    "            boxes=None, confidences=None, classids=None, idxs=None, infer=True):\n",
    "    \n",
    "    if infer:\n",
    "        # Contructing a blob from the input image\n",
    "        blob = cv.dnn.blobFromImage(img, 1 / 255.0, (416, 416), \n",
    "                        swapRB=True, crop=False)\n",
    "\n",
    "        # Perform a forward pass of the YOLO object detector\n",
    "        net.setInput(blob)\n",
    "\n",
    "        # Getting the outputs from the output layers\n",
    "        start = time.time()\n",
    "        outs = net.forward(layer_names)\n",
    "        end = time.time()\n",
    "\n",
    "        if FLAGS.show_time:\n",
    "            print (\"[INFO] YOLOv3 took {:6f} seconds\".format(end - start))\n",
    "\n",
    "        \n",
    "        # Generate the boxes, confidences, and classIDs\n",
    "        boxes, confidences, classids = generate_boxes_confidences_classids(outs, height, width, FLAGS.confidence)\n",
    "        \n",
    "        # Apply Non-Maxima Suppression to suppress overlapping bounding boxes\n",
    "        idxs = cv.dnn.NMSBoxes(boxes, confidences, FLAGS.confidence, FLAGS.threshold)\n",
    "\n",
    "    if boxes is None or confidences is None or idxs is None or classids is None:\n",
    "        raise '[ERROR] Required variables are set to None before drawing boxes on images.'\n",
    "        \n",
    "    # Draw labels and boxes on the image\n",
    "    img = draw_labels_and_boxes(img, boxes, confidences, classids, idxs, colors, labels)\n",
    "\n",
    "    return img, boxes, confidences, classids, idxs"
   ]
  },
  {
   "cell_type": "code",
   "execution_count": 6,
   "id": "53cef4ed",
   "metadata": {},
   "outputs": [
    {
     "name": "stdout",
     "output_type": "stream",
     "text": [
      "Note: you may need to restart the kernel to use updated packages.\n"
     ]
    },
    {
     "name": "stderr",
     "output_type": "stream",
     "text": [
      "ERROR: Could not find a version that satisfies the requirement opencv\n",
      "ERROR: No matching distribution found for opencv\n"
     ]
    }
   ],
   "source": []
  },
  {
   "cell_type": "code",
   "execution_count": null,
   "id": "54dbc327",
   "metadata": {},
   "outputs": [],
   "source": []
  }
 ],
 "metadata": {
  "kernelspec": {
   "display_name": "Python 3",
   "language": "python",
   "name": "python3"
  },
  "language_info": {
   "codemirror_mode": {
    "name": "ipython",
    "version": 3
   },
   "file_extension": ".py",
   "mimetype": "text/x-python",
   "name": "python",
   "nbconvert_exporter": "python",
   "pygments_lexer": "ipython3",
   "version": "3.8.8"
  }
 },
 "nbformat": 4,
 "nbformat_minor": 5
}
